{
 "cells": [
  {
   "cell_type": "code",
   "execution_count": 10,
   "metadata": {},
   "outputs": [],
   "source": [
    "import datetime\n",
    "\n",
    "NUMBER_OF_DAYS_IN_4_YEARS = (365 * 4) + 1\n",
    "\n",
    "\n",
    "def prob_individual_birthday_today(date):\n",
    "    if date.month == 2 and date.day == 29:\n",
    "        return 1 / NUMBER_OF_DAYS_IN_4_YEARS\n",
    "    else:\n",
    "        return 4 / NUMBER_OF_DAYS_IN_4_YEARS\n",
    "    \n",
    "    \n",
    "def prob_of_birthday(n):\n",
    "    return 1 - ((1 - (prob_individual_birthday_today(datetime.date.today()))) ** n)"
   ]
  },
  {
   "cell_type": "code",
   "execution_count": 12,
   "metadata": {},
   "outputs": [
    {
     "name": "stdout",
     "output_type": "stream",
     "text": [
      "Today: 0.0027378507871321013\n2 people: 0.005468205747331534\n10 people: 0.0270436465933529\n100 people: 0.2397899904738069\n"
     ]
    }
   ],
   "source": [
    "print(\"Today: {}\".format(prob_individual_birthday_today(datetime.date.today())))\n",
    "\n",
    "print(\"2 people: {}\".format(prob_of_birthday(2)))\n",
    "print(\"10 people: {}\".format(prob_of_birthday(10)))\n",
    "print(\"100 people: {}\".format(prob_of_birthday(100)))"
   ]
  },
  {
   "cell_type": "code",
   "execution_count": null,
   "metadata": {},
   "outputs": [],
   "source": [
    ""
   ]
  }
 ],
 "metadata": {},
 "nbformat": 4,
 "nbformat_minor": 0
}